{
 "cells": [
  {
   "cell_type": "markdown",
   "id": "e8bc3618",
   "metadata": {},
   "source": [
    "# Q1. Make a calculator using Python with addition , subtraction , multiplication ,division and power."
   ]
  },
  {
   "cell_type": "code",
   "execution_count": 1,
   "id": "eb1d1529",
   "metadata": {},
   "outputs": [
    {
     "name": "stdout",
     "output_type": "stream",
     "text": [
      "Enter first number2\n",
      "Enter second number3\n",
      "Select a choice\n",
      "1. Addition\n",
      "2. Subtraction\n",
      "3. Multiplication\n",
      "4. Division\n",
      "5. Power\n",
      "1\n",
      "2 + 3 = 5\n",
      "Select Y to continue the program or N to end the program\n",
      "y\n",
      "Enter first number3\n",
      "Enter second number2\n",
      "Select a choice\n",
      "1. Addition\n",
      "2. Subtraction\n",
      "3. Multiplication\n",
      "4. Division\n",
      "5. Power\n",
      "2\n",
      "3 - 2 = 1\n",
      "Select Y to continue the program or N to end the program\n",
      "y\n",
      "Enter first number4\n",
      "Enter second number2\n",
      "Select a choice\n",
      "1. Addition\n",
      "2. Subtraction\n",
      "3. Multiplication\n",
      "4. Division\n",
      "5. Power\n",
      "3\n",
      "4 x 2 = 8\n",
      "Select Y to continue the program or N to end the program\n",
      "y\n",
      "Enter first number2\n",
      "Enter second number3\n",
      "Select a choice\n",
      "1. Addition\n",
      "2. Subtraction\n",
      "3. Multiplication\n",
      "4. Division\n",
      "5. Power\n",
      "4\n",
      "2 / 3 = 0.67\n",
      "Select Y to continue the program or N to end the program\n",
      "y\n",
      "Enter first number3\n",
      "Enter second number2\n",
      "Select a choice\n",
      "1. Addition\n",
      "2. Subtraction\n",
      "3. Multiplication\n",
      "4. Division\n",
      "5. Power\n",
      "5\n",
      "3 ** 2 = 9\n",
      "Select Y to continue the program or N to end the program\n",
      "n\n"
     ]
    }
   ],
   "source": [
    "while True:\n",
    "    number_one = eval(input(\"Enter first number\"))\n",
    "    number_two = eval(input(\"Enter second number\"))\n",
    "    print(\"Select a choice\\n1. Addition\\n2. Subtraction\\n3. Multiplication\\n4. Division\\n5. Power\")\n",
    "    choice = int(input())\n",
    "    if choice == 1:\n",
    "        add = number_one + number_two\n",
    "        print(\"{} + {} = {}\".format(number_one, number_two, add))\n",
    "        print(\"Select Y to continue the program or N to end the program\")\n",
    "        choice_2 = input()\n",
    "        if choice_2 == 'Y' or choice_2 == 'y':\n",
    "            continue\n",
    "        elif choice_2 == 'N' or choice_2 == 'n':\n",
    "            break\n",
    "        else:\n",
    "            print(\"Select the correct option\")\n",
    "\n",
    "    elif choice == 2:\n",
    "        subtract = number_one - number_two\n",
    "        print(\"{} - {} = {}\".format(number_one, number_two, subtract))\n",
    "        print(\"Select Y to continue the program or N to end the program\")\n",
    "        choice_2 = input()\n",
    "        if choice_2 == 'Y' or choice_2 == 'y':\n",
    "            continue\n",
    "        elif choice_2 == 'N' or choice_2 == 'n':\n",
    "            break\n",
    "        else:\n",
    "            print(\"Select the correct option\")\n",
    "\n",
    "    elif choice == 3:\n",
    "        multiply = number_one * number_two\n",
    "        print(\"{} x {} = {}\".format(number_one, number_two, multiply))\n",
    "        print(\"Select Y to continue the program or N to end the program\")\n",
    "        choice_2 = input()\n",
    "        if choice_2 == 'Y' or choice_2 == 'y':\n",
    "            continue\n",
    "        elif choice_2 == 'N' or choice_2 == 'n':\n",
    "            break\n",
    "        else:\n",
    "            print(\"Select the correct option\")\n",
    "\n",
    "    elif choice == 4:\n",
    "        divide = number_one / number_two \n",
    "        print(\"{} / {} = {:.2f}\".format(number_one, number_two, divide))\n",
    "        print(\"Select Y to continue the program or N to end the program\")\n",
    "        choice_2 = input()\n",
    "        if choice_2 == 'Y' or choice_2 == 'y':\n",
    "            continue\n",
    "        elif choice_2 == 'N' or choice_2 == 'n':\n",
    "            break\n",
    "        else:\n",
    "            print(\"Select the correct option\")\n",
    "\n",
    "    else:\n",
    "        power = number_one ** number_two \n",
    "        print(\"{} ** {} = {}\".format(number_one, number_two, power))\n",
    "        print(\"Select Y to continue the program or N to end the program\")\n",
    "        choice_2 = input()\n",
    "        if choice_2 == 'Y' or choice_2 == 'y':\n",
    "            continue\n",
    "        elif choice_2 == 'N' or choice_2 == 'n':\n",
    "            break\n",
    "        else:\n",
    "            print(\"Select the correct option\")"
   ]
  },
  {
   "cell_type": "markdown",
   "id": "3d9fef6f",
   "metadata": {},
   "source": [
    "# Q2. Write a program to check if there is any numeric value in list using for  loop."
   ]
  },
  {
   "cell_type": "code",
   "execution_count": 17,
   "id": "786b386e",
   "metadata": {},
   "outputs": [
    {
     "name": "stdout",
     "output_type": "stream",
     "text": [
      "['one', 'two', 3, 4, 5, 6.6, 7.5, 'eight', 9.5, 10]\n"
     ]
    },
    {
     "data": {
      "text/plain": [
       "['one:Not Numeric',\n",
       " 'two:Not Numeric',\n",
       " '3: Numeric',\n",
       " '4: Numeric',\n",
       " '5: Numeric',\n",
       " '6.6:Not Numeric',\n",
       " '7.5:Not Numeric',\n",
       " 'eight:Not Numeric',\n",
       " '9.5:Not Numeric',\n",
       " '10: Numeric']"
      ]
     },
     "execution_count": 17,
     "metadata": {},
     "output_type": "execute_result"
    }
   ],
   "source": [
    "l1 = [\"one\", \"two\", 3, 4, 5, 6.6, 7.5, \"eight\", 9.5, 10]\n",
    "print(l1)\n",
    "[\"{}: Numeric\".format(i)  if type(i) == int else \"{}:Not Numeric\".format(i) for i in l1]\n"
   ]
  },
  {
   "cell_type": "markdown",
   "id": "b69eea12",
   "metadata": {},
   "source": [
    "# Q3. Write a Python script to add a key to a dictionary"
   ]
  },
  {
   "cell_type": "code",
   "execution_count": 94,
   "id": "e0548883",
   "metadata": {},
   "outputs": [
    {
     "data": {
      "text/plain": [
       "{'person_1': None, 'person_2': None, 'person_3': None, 'person_4': None}"
      ]
     },
     "execution_count": 94,
     "metadata": {},
     "output_type": "execute_result"
    }
   ],
   "source": [
    "names = {}\n",
    "#Adding empty keys using fromkeys method \n",
    "names.fromkeys(['person_1','person_2', 'person_3', 'person_4'])\n"
   ]
  },
  {
   "cell_type": "code",
   "execution_count": 95,
   "id": "4420054e",
   "metadata": {},
   "outputs": [],
   "source": [
    "#Assigning values to those empty keys using update method\n",
    "names.update({'person_1':'Sameer','person_2':'Bilal', 'person_3':'Ali','person_4':'Zeeshan'})"
   ]
  },
  {
   "cell_type": "code",
   "execution_count": 96,
   "id": "8f3d359d",
   "metadata": {},
   "outputs": [
    {
     "data": {
      "text/plain": [
       "{'person_1': 'Sameer',\n",
       " 'person_2': 'Bilal',\n",
       " 'person_3': 'Ali',\n",
       " 'person_4': 'Zeeshan'}"
      ]
     },
     "execution_count": 96,
     "metadata": {},
     "output_type": "execute_result"
    }
   ],
   "source": [
    "names"
   ]
  },
  {
   "cell_type": "code",
   "execution_count": 97,
   "id": "6e2f1229",
   "metadata": {},
   "outputs": [
    {
     "data": {
      "text/plain": [
       "{'person_1': 'Sameer',\n",
       " 'person_2': 'Bilal',\n",
       " 'person_3': 'Ali',\n",
       " 'person_4': 'Zeeshan',\n",
       " 'person_5': 'Haider'}"
      ]
     },
     "execution_count": 97,
     "metadata": {},
     "output_type": "execute_result"
    }
   ],
   "source": [
    "#Another way to adding keys to dictionary\n",
    "names[\"person_5\"] = \"Haider\"\n",
    "names"
   ]
  },
  {
   "cell_type": "markdown",
   "id": "38c864b6",
   "metadata": {},
   "source": [
    "# Q4. Write a Python program to sum all the numeric items in a dictionary"
   ]
  },
  {
   "cell_type": "code",
   "execution_count": 85,
   "id": "894cf53b",
   "metadata": {},
   "outputs": [
    {
     "data": {
      "text/plain": [
       "{'value_one': 1,\n",
       " 'value_two': 2,\n",
       " 'value_three': 3,\n",
       " 'value_four': 4,\n",
       " 'value_five': 5.5,\n",
       " 'value_six': 6.6,\n",
       " 'value_seven': 7.2,\n",
       " 'value_eight': 'Hello',\n",
       " 'value_nine': 'World',\n",
       " 'value_ten': 'Python'}"
      ]
     },
     "execution_count": 85,
     "metadata": {},
     "output_type": "execute_result"
    }
   ],
   "source": [
    "dict_one = {\n",
    "    \"value_one\": 1,\n",
    "    \"value_two\": 2,\n",
    "    \"value_three\": 3,\n",
    "    \"value_four\": 4,\n",
    "    \"value_five\": 5.5,\n",
    "    \"value_six\": 6.6,\n",
    "    \"value_seven\": 7.2,\n",
    "    \"value_eight\": \"Hello\",\n",
    "    \"value_nine\": \"World\",\n",
    "    \"value_ten\": \"Python\"\n",
    "}\n",
    "\n",
    "dict_one"
   ]
  },
  {
   "cell_type": "code",
   "execution_count": 86,
   "id": "6231f21d",
   "metadata": {},
   "outputs": [
    {
     "name": "stdout",
     "output_type": "stream",
     "text": [
      "Sum of all numeric elements is: 10\n"
     ]
    }
   ],
   "source": [
    "total = 0\n",
    "for key, value in dict_one.items(): \n",
    "    if type(value) == int:\n",
    "        total+=value\n",
    "print(\"Sum of all numeric elements is:\", total)"
   ]
  },
  {
   "cell_type": "markdown",
   "id": "02412822",
   "metadata": {},
   "source": [
    "# Q5. Write a program to identify duplicate values from list"
   ]
  },
  {
   "cell_type": "code",
   "execution_count": 82,
   "id": "d2fb55fe",
   "metadata": {},
   "outputs": [
    {
     "name": "stdout",
     "output_type": "stream",
     "text": [
      "[1, 2, 3, 4, 4, 5, 5, 5, 5, 6, 7.7, 7.7, 'Hello', 'Hello']\n",
      "\n",
      "4: Duplicate\n",
      "5: Duplicate\n",
      "5: Duplicate\n",
      "5: Duplicate\n",
      "7.7: Duplicate\n",
      "Hello: Duplicate\n"
     ]
    }
   ],
   "source": [
    "l1 = [1,2,3,4,4,5,5,5,5,6,7.7,7.7,\"Hello\", \"Hello\"]\n",
    "print(l1)\n",
    "print()\n",
    "for i in range(len(l1)):\n",
    "    if i!= len(l1)-1:\n",
    "        if l1[i] == l1[i+1]:\n",
    "            print(\"{}: Duplicate\".format(l1[i]))\n",
    "    else:\n",
    "        break  "
   ]
  },
  {
   "cell_type": "markdown",
   "id": "2b0138b8",
   "metadata": {},
   "source": [
    "# Q6. Write a Python script to check if a given key already exists in a dictionary"
   ]
  },
  {
   "cell_type": "code",
   "execution_count": 81,
   "id": "3154817f",
   "metadata": {},
   "outputs": [
    {
     "name": "stdout",
     "output_type": "stream",
     "text": [
      "Enter a key to check if present in dictionary: value_one\n",
      "Already Exists\n"
     ]
    }
   ],
   "source": [
    "dict_two = {\n",
    "    \"value_one\": 1,\n",
    "    \"value_two\": 4,\n",
    "    \"value_three\": 5.5,\n",
    "    \"value_four\": 7.2,\n",
    "    \"value_five\": \"World\",\n",
    "    \"value_six\": \"Python\"\n",
    "}\n",
    "dict_two\n",
    "\n",
    "key = input(\"Enter a key to check if present in dictionary: \")\n",
    "if key in dict_two.keys():\n",
    "    print(\"Already Exists\")\n",
    "else:\n",
    "    print(\"Doesn't Exists\")"
   ]
  }
 ],
 "metadata": {
  "kernelspec": {
   "display_name": "Python 3 (ipykernel)",
   "language": "python",
   "name": "python3"
  },
  "language_info": {
   "codemirror_mode": {
    "name": "ipython",
    "version": 3
   },
   "file_extension": ".py",
   "mimetype": "text/x-python",
   "name": "python",
   "nbconvert_exporter": "python",
   "pygments_lexer": "ipython3",
   "version": "3.9.7"
  }
 },
 "nbformat": 4,
 "nbformat_minor": 5
}
