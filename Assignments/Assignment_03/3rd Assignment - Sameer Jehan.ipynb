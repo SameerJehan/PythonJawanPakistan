{
 "cells": [
  {
   "cell_type": "markdown",
   "id": "b45edd7e",
   "metadata": {},
   "source": [
    "# Q1. Write a Python program to print the following string in a specific format (see the output).\n",
    "Twinkle, twinkle, little star,\n",
    "    How I wonder what you are!\n",
    "        Up above the world so high,\n",
    "        Like a diamond in the sky.\n",
    "Twinkle, twinkle, little star,\n",
    "    How I wonder what you are"
   ]
  },
  {
   "cell_type": "code",
   "execution_count": 1,
   "id": "dba73cca",
   "metadata": {},
   "outputs": [],
   "source": [
    "sample_string = \"Twinkle, twinkle, little star,How I wonder what you are!Up above the world so high,Like a diamond in the sky.Twinkle, twinkle, little star,How I wonder what you are!\"\n"
   ]
  },
  {
   "cell_type": "code",
   "execution_count": 2,
   "id": "08545f8a",
   "metadata": {},
   "outputs": [],
   "source": [
    "l1 = []\n",
    "first_length = sample_string.find(\"H\")\n",
    "first_string = sample_string[:first_length]  \n",
    "second_length = sample_string.find(\"!\")\n",
    "second_string = sample_string[first_length:second_length+1]\n",
    "third_length = sample_string.find('.')\n",
    "third_string = sample_string[second_length+1:third_length+1]\n",
    "l1.append(first_string)\n",
    "l1.append(second_string)\n",
    "l2 = third_string.split(',')\n",
    "l1.extend(l2)\n",
    "l1.append(l1[0])\n",
    "l1.append(l1[1])"
   ]
  },
  {
   "cell_type": "code",
   "execution_count": 3,
   "id": "b891083c",
   "metadata": {},
   "outputs": [
    {
     "name": "stdout",
     "output_type": "stream",
     "text": [
      "Twinkle, twinkle, little star,\n",
      "\tHow I wonder what you are!\n",
      "\t\tUp above the world so high\n",
      "\t\tLike a diamond in the sky.\n",
      "Twinkle, twinkle, little star,\n",
      "\tHow I wonder what you are!\n"
     ]
    }
   ],
   "source": [
    "for i, words in enumerate(l1):\n",
    "    if i == 0 or i == 4:\n",
    "        print(words)\n",
    "    if i == 1 or i == 5:\n",
    "        print(\"\\t{}\".format(l1[1]))\n",
    "    if i == 2 or i == 3:\n",
    "        print(\"\\t\\t{}\".format(l1[i]))\n",
    "        \n",
    "    "
   ]
  },
  {
   "cell_type": "markdown",
   "id": "5fcc7215",
   "metadata": {},
   "source": [
    "# Q2: Write a Python program to get the Python version you are using "
   ]
  },
  {
   "cell_type": "code",
   "execution_count": 4,
   "id": "655af5d2",
   "metadata": {},
   "outputs": [
    {
     "name": "stdout",
     "output_type": "stream",
     "text": [
      "Python version: 3.8.8\n"
     ]
    }
   ],
   "source": [
    "import platform\n",
    "print(\"Python version: {}\".format(platform.python_version()))"
   ]
  },
  {
   "cell_type": "markdown",
   "id": "148930bb",
   "metadata": {},
   "source": [
    "# Q3. Write a Python program to display the current date and time."
   ]
  },
  {
   "cell_type": "code",
   "execution_count": 5,
   "id": "4088bac9",
   "metadata": {},
   "outputs": [
    {
     "name": "stdout",
     "output_type": "stream",
     "text": [
      "Current Date: 22-10-2021\n",
      "Current Time: 21:31:09 PM\n"
     ]
    }
   ],
   "source": [
    "from datetime import datetime\n",
    "current_date = datetime.now()\n",
    "print(\"Current Date: {}\".format(current_date.strftime('%d-%m-%Y'))) \n",
    "print(\"Current Time: {}\".format(current_date.strftime('%H:%M:%S %p')))"
   ]
  },
  {
   "cell_type": "markdown",
   "id": "4bb096f4",
   "metadata": {},
   "source": [
    "# Q4. Write a Python program which accepts the radius of a circle from the user and compute the area. "
   ]
  },
  {
   "cell_type": "code",
   "execution_count": 6,
   "id": "0a005e48",
   "metadata": {},
   "outputs": [
    {
     "name": "stdout",
     "output_type": "stream",
     "text": [
      "Enter any number for radius of circle: 3\n",
      "Area of the circle: 28.27\n"
     ]
    }
   ],
   "source": [
    "from math import pi\n",
    "radius = float(input(\"Enter any number for radius of circle: \"))\n",
    "print(\"Area of the circle: {:.2f}\".format(pi*radius**2))"
   ]
  },
  {
   "cell_type": "markdown",
   "id": "c1cfe6e5",
   "metadata": {},
   "source": [
    "# Q5. Write a Python program which accepts the user's first and last name and print them in reverse order with a space between them. "
   ]
  },
  {
   "cell_type": "code",
   "execution_count": 15,
   "id": "d6ce0cca",
   "metadata": {},
   "outputs": [
    {
     "name": "stdout",
     "output_type": "stream",
     "text": [
      "Enter your first name: Sameer\n",
      "Enter your last name: Jehan\n",
      "Full Name: Sameer Jehan\n",
      "Full Name Reversed: naheJ reemaS\n"
     ]
    }
   ],
   "source": [
    "first_name = input(\"Enter your first name: \")\n",
    "last_name = input(\"Enter your last name: \")\n",
    "full_name = first_name + \" \" + last_name \n",
    "print(\"Full Name: {}\".format(full_name))\n",
    "reversed_string = full_name[len(full_name)::-1]\n",
    "print(\"Full Name Reversed: {}\" .format(reversed_string))"
   ]
  },
  {
   "cell_type": "markdown",
   "id": "f0a89262",
   "metadata": {},
   "source": [
    "# Q6. Write a python program which takes two inputs from user and print them addition "
   ]
  },
  {
   "cell_type": "code",
   "execution_count": 8,
   "id": "ae48d7a5",
   "metadata": {},
   "outputs": [
    {
     "name": "stdout",
     "output_type": "stream",
     "text": [
      "Enter your first number: 2\n",
      "Enter your second number: 3\n",
      "Sum: 5\n"
     ]
    }
   ],
   "source": [
    "first_number = eval(input(\"Enter your first number: \"))\n",
    "second_number = eval(input(\"Enter your second number: \"))\n",
    "total = first_number + second_number\n",
    "print(\"Sum: {}\".format(total))"
   ]
  },
  {
   "cell_type": "markdown",
   "id": "cf7e9f98",
   "metadata": {},
   "source": [
    "# Q7. Write a program which takes 5 inputs from user for different subject’s marks, total it and generate mark sheet using grades? "
   ]
  },
  {
   "cell_type": "code",
   "execution_count": 9,
   "id": "bf6a9ab4",
   "metadata": {},
   "outputs": [
    {
     "name": "stdout",
     "output_type": "stream",
     "text": [
      "Enter English Marks: 70\n",
      "Enter Islamiyat Marks: 60\n",
      "Enter Maths Marks: 50\n",
      "Enter Geography Marks: 40\n",
      "Enter Biology Marks: 30\n",
      "Percentage : 50%\n",
      "Grade: C\n"
     ]
    }
   ],
   "source": [
    "Eng = eval(input(\"Enter English Marks: \"))\n",
    "Isl = eval(input(\"Enter Islamiyat Marks: \"))\n",
    "Maths = eval(input(\"Enter Maths Marks: \"))\n",
    "Geo = eval(input(\"Enter Geography Marks: \"))\n",
    "Bio = eval(input(\"Enter Biology Marks: \"))\n",
    "total_marks = 500\n",
    "if Eng < 0 or Isl < 0 or Maths < 0 or Geo < 0 or Bio < 0:\n",
    "    print(\"You cannot enter negative number for subject marks\")\n",
    "else:\n",
    "    total_course_sum = Eng+Isl+Maths+Geo+Bio\n",
    "    total_course_percentage = total_course_sum / total_marks\n",
    "    total_course_percentage*=100\n",
    "\n",
    "    if (total_course_percentage >= 80 and total_course_percentage < 100):\n",
    "        print(\"Percentage : {:.0f}%\".format(total_course_percentage))\n",
    "        print(\"Grade: A+\")\n",
    "    elif (total_course_percentage >= 70 and total_course_percentage < 80):\n",
    "        print(\"Percentage : {:.0f}%\".format(total_course_percentage))\n",
    "        print(\"Grade: A\")\n",
    "    elif (total_course_percentage >= 60 and total_course_percentage < 70):\n",
    "        print(\"Percentage : {:.0f}%\".format(total_course_percentage))\n",
    "        print(\"Grade: B\")\n",
    "    elif (total_course_percentage >= 50 and total_course_percentage < 60):\n",
    "        print(\"Percentage : {:.0f}%\".format(total_course_percentage))\n",
    "        print(\"Grade: C\")\n",
    "    elif (total_course_percentage >= 40 and total_course_percentage < 50):\n",
    "        print(\"Percentage : {:.0f}%\".format(total_course_percentage))\n",
    "        print(\"Grade: D\")\n",
    "    elif (total_course_percentage >= 33 and total_course_percentage < 40):\n",
    "        print(\"Percentage : {:.0f}%\".format(total_course_percentage))\n",
    "        print(\"Grade: E\")\n",
    "    elif (total_course_percentage < 33 and total_course_percentage > 0):\n",
    "        print(\"Percentage : {:.0f}%\".format(total_course_percentage))\n",
    "        print(\"Grade: F\")\n",
    "    else:\n",
    "        print(\"Please Enter Correct Marks\")"
   ]
  },
  {
   "cell_type": "markdown",
   "id": "fcb75b5d",
   "metadata": {},
   "source": [
    "# Q8. Write a program which take input from user and identify that the given number is even or odd? "
   ]
  },
  {
   "cell_type": "code",
   "execution_count": 10,
   "id": "281b6ab8",
   "metadata": {},
   "outputs": [
    {
     "name": "stdout",
     "output_type": "stream",
     "text": [
      "Enter a number: 2\n",
      "2: Even\n"
     ]
    }
   ],
   "source": [
    "number = int(input(\"Enter a number: \"))\n",
    "if number % 2 == 0:\n",
    "    print(\"{}: Even\".format(number))\n",
    "else:\n",
    "    print(\"{}: Odd\".format(number))"
   ]
  },
  {
   "cell_type": "markdown",
   "id": "5eb951ee",
   "metadata": {},
   "source": [
    "# Q9. Write a program which print the length of the list?"
   ]
  },
  {
   "cell_type": "code",
   "execution_count": 11,
   "id": "b1514876",
   "metadata": {},
   "outputs": [
    {
     "name": "stdout",
     "output_type": "stream",
     "text": [
      "Length of list: 9\n"
     ]
    }
   ],
   "source": [
    "l1 = [1, 2, 3, \"Hello\", \"World\", 2.5, 3 , 5, [1,2,3]]\n",
    "print(\"Length of list: {}\".format(len(l1)))"
   ]
  },
  {
   "cell_type": "markdown",
   "id": "da31ecdb",
   "metadata": {},
   "source": [
    "# Q10.Write a Python program to sum all the numeric items in a list? \n"
   ]
  },
  {
   "cell_type": "code",
   "execution_count": 12,
   "id": "752eb5e1",
   "metadata": {},
   "outputs": [
    {
     "name": "stdout",
     "output_type": "stream",
     "text": [
      "Total of all numeric: 33.5\n"
     ]
    }
   ],
   "source": [
    "l2 = [1,2,3,4, 2.5,3.5,\"Hello World\", \"Python\", \"Java\",\"C++\",\"C\", 3.5, 6.5, 7.5]\n",
    "total = 0 \n",
    "for number in l2:\n",
    "    if type(number) == int or type(number) == float:\n",
    "        total+=number\n",
    "    else:\n",
    "        pass\n",
    "print(\"Total of all numeric: {}\".format(total))"
   ]
  },
  {
   "cell_type": "markdown",
   "id": "3d1d5618",
   "metadata": {},
   "source": [
    "# Q11. Write a Python program to get the largest number from a numeric list. "
   ]
  },
  {
   "cell_type": "code",
   "execution_count": 13,
   "id": "81d5f4a5",
   "metadata": {},
   "outputs": [
    {
     "name": "stdout",
     "output_type": "stream",
     "text": [
      "Max Number From List: 60.5\n"
     ]
    }
   ],
   "source": [
    "l3 = [10, 20, 30, 40, 45.5, 55.5 , 60.5]\n",
    "print(\"Max Number From List: {}\".format(max(l3)))"
   ]
  },
  {
   "cell_type": "markdown",
   "id": "c2108e88",
   "metadata": {},
   "source": [
    "# Q12. Take a list, say for example this one:\n",
    "a = [1, 1, 2, 3, 5, 8, 13, 21, 34, 55, 89]\n",
    "Write a program that prints out all the elements of the list that are less than 5. "
   ]
  },
  {
   "cell_type": "code",
   "execution_count": 14,
   "id": "cd0f8c8f",
   "metadata": {},
   "outputs": [
    {
     "data": {
      "text/plain": [
       "[1, 1, 2, 3]"
      ]
     },
     "execution_count": 14,
     "metadata": {},
     "output_type": "execute_result"
    }
   ],
   "source": [
    "a = [1, 1, 2, 3, 5, 8, 13, 21, 34, 55, 89]\n",
    "a = [i for i in a if i < 5]\n",
    "a "
   ]
  },
  {
   "cell_type": "code",
   "execution_count": null,
   "id": "0cd53df7",
   "metadata": {},
   "outputs": [],
   "source": []
  },
  {
   "cell_type": "code",
   "execution_count": null,
   "id": "d5a118dd",
   "metadata": {},
   "outputs": [],
   "source": []
  },
  {
   "cell_type": "code",
   "execution_count": null,
   "id": "56e4cb29",
   "metadata": {},
   "outputs": [],
   "source": []
  },
  {
   "cell_type": "code",
   "execution_count": null,
   "id": "bbe2166b",
   "metadata": {},
   "outputs": [],
   "source": []
  },
  {
   "cell_type": "code",
   "execution_count": null,
   "id": "fec30866",
   "metadata": {},
   "outputs": [],
   "source": []
  },
  {
   "cell_type": "code",
   "execution_count": null,
   "id": "eca546ca",
   "metadata": {},
   "outputs": [],
   "source": []
  },
  {
   "cell_type": "code",
   "execution_count": null,
   "id": "397072ba",
   "metadata": {},
   "outputs": [],
   "source": []
  },
  {
   "cell_type": "code",
   "execution_count": null,
   "id": "9fb83774",
   "metadata": {},
   "outputs": [],
   "source": []
  },
  {
   "cell_type": "code",
   "execution_count": null,
   "id": "f164f1d2",
   "metadata": {},
   "outputs": [],
   "source": []
  },
  {
   "cell_type": "code",
   "execution_count": null,
   "id": "76f99e04",
   "metadata": {},
   "outputs": [],
   "source": []
  },
  {
   "cell_type": "code",
   "execution_count": null,
   "id": "4f5ca516",
   "metadata": {},
   "outputs": [],
   "source": []
  },
  {
   "cell_type": "code",
   "execution_count": null,
   "id": "f4aeda4e",
   "metadata": {},
   "outputs": [],
   "source": []
  },
  {
   "cell_type": "code",
   "execution_count": null,
   "id": "78cee41c",
   "metadata": {},
   "outputs": [],
   "source": []
  },
  {
   "cell_type": "code",
   "execution_count": null,
   "id": "55cbab35",
   "metadata": {},
   "outputs": [],
   "source": []
  },
  {
   "cell_type": "code",
   "execution_count": null,
   "id": "dbd3ce91",
   "metadata": {},
   "outputs": [],
   "source": []
  },
  {
   "cell_type": "code",
   "execution_count": null,
   "id": "d6a5befe",
   "metadata": {},
   "outputs": [],
   "source": []
  },
  {
   "cell_type": "code",
   "execution_count": null,
   "id": "fb87f3d8",
   "metadata": {},
   "outputs": [],
   "source": []
  },
  {
   "cell_type": "code",
   "execution_count": null,
   "id": "f1e9cb31",
   "metadata": {},
   "outputs": [],
   "source": []
  },
  {
   "cell_type": "code",
   "execution_count": null,
   "id": "0fd7a5b2",
   "metadata": {},
   "outputs": [],
   "source": []
  },
  {
   "cell_type": "code",
   "execution_count": null,
   "id": "69bb6eb2",
   "metadata": {},
   "outputs": [],
   "source": []
  },
  {
   "cell_type": "code",
   "execution_count": null,
   "id": "158433c1",
   "metadata": {},
   "outputs": [],
   "source": []
  },
  {
   "cell_type": "code",
   "execution_count": null,
   "id": "0590191d",
   "metadata": {},
   "outputs": [],
   "source": []
  },
  {
   "cell_type": "code",
   "execution_count": null,
   "id": "7fbf6200",
   "metadata": {},
   "outputs": [],
   "source": []
  },
  {
   "cell_type": "code",
   "execution_count": null,
   "id": "6c0ba325",
   "metadata": {},
   "outputs": [],
   "source": []
  },
  {
   "cell_type": "code",
   "execution_count": null,
   "id": "ffb79f5b",
   "metadata": {},
   "outputs": [],
   "source": []
  },
  {
   "cell_type": "code",
   "execution_count": null,
   "id": "55081238",
   "metadata": {},
   "outputs": [],
   "source": []
  },
  {
   "cell_type": "code",
   "execution_count": null,
   "id": "46a4f99f",
   "metadata": {},
   "outputs": [],
   "source": []
  },
  {
   "cell_type": "code",
   "execution_count": null,
   "id": "d3ab056b",
   "metadata": {},
   "outputs": [],
   "source": []
  },
  {
   "cell_type": "code",
   "execution_count": null,
   "id": "036fbe30",
   "metadata": {},
   "outputs": [],
   "source": []
  },
  {
   "cell_type": "code",
   "execution_count": null,
   "id": "21e826b4",
   "metadata": {},
   "outputs": [],
   "source": []
  },
  {
   "cell_type": "code",
   "execution_count": null,
   "id": "31febb12",
   "metadata": {},
   "outputs": [],
   "source": []
  },
  {
   "cell_type": "code",
   "execution_count": null,
   "id": "94b31024",
   "metadata": {},
   "outputs": [],
   "source": []
  },
  {
   "cell_type": "code",
   "execution_count": null,
   "id": "ea764535",
   "metadata": {},
   "outputs": [],
   "source": []
  },
  {
   "cell_type": "code",
   "execution_count": null,
   "id": "18c26aa0",
   "metadata": {},
   "outputs": [],
   "source": []
  },
  {
   "cell_type": "code",
   "execution_count": null,
   "id": "9159f213",
   "metadata": {},
   "outputs": [],
   "source": []
  },
  {
   "cell_type": "code",
   "execution_count": null,
   "id": "7024a818",
   "metadata": {},
   "outputs": [],
   "source": []
  },
  {
   "cell_type": "code",
   "execution_count": null,
   "id": "c2a6eacb",
   "metadata": {},
   "outputs": [],
   "source": []
  },
  {
   "cell_type": "code",
   "execution_count": null,
   "id": "1f456c68",
   "metadata": {},
   "outputs": [],
   "source": []
  },
  {
   "cell_type": "code",
   "execution_count": null,
   "id": "9a9f8a4f",
   "metadata": {},
   "outputs": [],
   "source": []
  },
  {
   "cell_type": "code",
   "execution_count": null,
   "id": "d92d2867",
   "metadata": {},
   "outputs": [],
   "source": []
  },
  {
   "cell_type": "markdown",
   "id": "5c5dfa68",
   "metadata": {},
   "source": []
  },
  {
   "cell_type": "code",
   "execution_count": null,
   "id": "6853d3c5",
   "metadata": {},
   "outputs": [],
   "source": []
  },
  {
   "cell_type": "code",
   "execution_count": null,
   "id": "7f0728a7",
   "metadata": {},
   "outputs": [],
   "source": []
  },
  {
   "cell_type": "code",
   "execution_count": null,
   "id": "f596d556",
   "metadata": {},
   "outputs": [],
   "source": []
  },
  {
   "cell_type": "code",
   "execution_count": null,
   "id": "7d79a27a",
   "metadata": {},
   "outputs": [],
   "source": []
  },
  {
   "cell_type": "code",
   "execution_count": null,
   "id": "c9898706",
   "metadata": {},
   "outputs": [],
   "source": []
  },
  {
   "cell_type": "code",
   "execution_count": null,
   "id": "9bebf3a2",
   "metadata": {},
   "outputs": [],
   "source": []
  },
  {
   "cell_type": "code",
   "execution_count": null,
   "id": "7668374b",
   "metadata": {},
   "outputs": [],
   "source": []
  },
  {
   "cell_type": "code",
   "execution_count": null,
   "id": "6886003b",
   "metadata": {},
   "outputs": [],
   "source": []
  },
  {
   "cell_type": "code",
   "execution_count": null,
   "id": "a2b37e12",
   "metadata": {},
   "outputs": [],
   "source": []
  },
  {
   "cell_type": "code",
   "execution_count": null,
   "id": "9dca7a8b",
   "metadata": {},
   "outputs": [],
   "source": []
  },
  {
   "cell_type": "code",
   "execution_count": null,
   "id": "f3b3869a",
   "metadata": {},
   "outputs": [],
   "source": []
  },
  {
   "cell_type": "code",
   "execution_count": null,
   "id": "558d0a56",
   "metadata": {},
   "outputs": [],
   "source": []
  },
  {
   "cell_type": "code",
   "execution_count": null,
   "id": "1514bf35",
   "metadata": {},
   "outputs": [],
   "source": []
  },
  {
   "cell_type": "code",
   "execution_count": null,
   "id": "bdbdfc9c",
   "metadata": {},
   "outputs": [],
   "source": []
  },
  {
   "cell_type": "code",
   "execution_count": null,
   "id": "e820f906",
   "metadata": {},
   "outputs": [],
   "source": []
  },
  {
   "cell_type": "code",
   "execution_count": null,
   "id": "8709fefc",
   "metadata": {},
   "outputs": [],
   "source": []
  },
  {
   "cell_type": "code",
   "execution_count": null,
   "id": "76b161be",
   "metadata": {},
   "outputs": [],
   "source": []
  },
  {
   "cell_type": "code",
   "execution_count": null,
   "id": "756ff964",
   "metadata": {},
   "outputs": [],
   "source": []
  },
  {
   "cell_type": "code",
   "execution_count": null,
   "id": "86c0a1f1",
   "metadata": {},
   "outputs": [],
   "source": []
  },
  {
   "cell_type": "code",
   "execution_count": null,
   "id": "b3533cb1",
   "metadata": {},
   "outputs": [],
   "source": []
  },
  {
   "cell_type": "code",
   "execution_count": null,
   "id": "cc4a321e",
   "metadata": {},
   "outputs": [],
   "source": []
  },
  {
   "cell_type": "code",
   "execution_count": null,
   "id": "2191f1bf",
   "metadata": {},
   "outputs": [],
   "source": []
  },
  {
   "cell_type": "code",
   "execution_count": null,
   "id": "4dbecddf",
   "metadata": {},
   "outputs": [],
   "source": []
  },
  {
   "cell_type": "code",
   "execution_count": null,
   "id": "e55bdf1a",
   "metadata": {},
   "outputs": [],
   "source": []
  },
  {
   "cell_type": "code",
   "execution_count": null,
   "id": "07000605",
   "metadata": {},
   "outputs": [],
   "source": []
  },
  {
   "cell_type": "code",
   "execution_count": null,
   "id": "252cb5e5",
   "metadata": {},
   "outputs": [],
   "source": []
  },
  {
   "cell_type": "code",
   "execution_count": null,
   "id": "194cf227",
   "metadata": {},
   "outputs": [],
   "source": []
  },
  {
   "cell_type": "code",
   "execution_count": null,
   "id": "20dd8a4d",
   "metadata": {},
   "outputs": [],
   "source": []
  },
  {
   "cell_type": "code",
   "execution_count": null,
   "id": "188294fe",
   "metadata": {},
   "outputs": [],
   "source": []
  },
  {
   "cell_type": "code",
   "execution_count": null,
   "id": "78167c01",
   "metadata": {},
   "outputs": [],
   "source": []
  },
  {
   "cell_type": "code",
   "execution_count": null,
   "id": "db307c73",
   "metadata": {},
   "outputs": [],
   "source": []
  },
  {
   "cell_type": "code",
   "execution_count": null,
   "id": "022ca0c8",
   "metadata": {},
   "outputs": [],
   "source": []
  },
  {
   "cell_type": "code",
   "execution_count": null,
   "id": "2a903cbd",
   "metadata": {},
   "outputs": [],
   "source": []
  },
  {
   "cell_type": "code",
   "execution_count": null,
   "id": "af975c3b",
   "metadata": {},
   "outputs": [],
   "source": []
  },
  {
   "cell_type": "code",
   "execution_count": null,
   "id": "012d76b8",
   "metadata": {},
   "outputs": [],
   "source": []
  },
  {
   "cell_type": "code",
   "execution_count": null,
   "id": "5cf025f2",
   "metadata": {},
   "outputs": [],
   "source": []
  },
  {
   "cell_type": "code",
   "execution_count": null,
   "id": "70474781",
   "metadata": {},
   "outputs": [],
   "source": []
  },
  {
   "cell_type": "code",
   "execution_count": null,
   "id": "c02bffb9",
   "metadata": {},
   "outputs": [],
   "source": []
  },
  {
   "cell_type": "code",
   "execution_count": null,
   "id": "0aad4379",
   "metadata": {},
   "outputs": [],
   "source": []
  },
  {
   "cell_type": "code",
   "execution_count": null,
   "id": "4af3eb62",
   "metadata": {},
   "outputs": [],
   "source": []
  },
  {
   "cell_type": "code",
   "execution_count": null,
   "id": "2cc03bd5",
   "metadata": {},
   "outputs": [],
   "source": []
  },
  {
   "cell_type": "code",
   "execution_count": null,
   "id": "57baff57",
   "metadata": {},
   "outputs": [],
   "source": []
  },
  {
   "cell_type": "code",
   "execution_count": null,
   "id": "fc588c39",
   "metadata": {},
   "outputs": [],
   "source": []
  },
  {
   "cell_type": "code",
   "execution_count": null,
   "id": "70414a5b",
   "metadata": {},
   "outputs": [],
   "source": []
  },
  {
   "cell_type": "code",
   "execution_count": null,
   "id": "eb0ce9e4",
   "metadata": {},
   "outputs": [],
   "source": []
  }
 ],
 "metadata": {
  "kernelspec": {
   "display_name": "Python 3",
   "language": "python",
   "name": "python3"
  },
  "language_info": {
   "codemirror_mode": {
    "name": "ipython",
    "version": 3
   },
   "file_extension": ".py",
   "mimetype": "text/x-python",
   "name": "python",
   "nbconvert_exporter": "python",
   "pygments_lexer": "ipython3",
   "version": "3.8.8"
  }
 },
 "nbformat": 4,
 "nbformat_minor": 5
}
